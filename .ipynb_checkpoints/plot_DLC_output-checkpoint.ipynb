{
 "cells": [
  {
   "cell_type": "markdown",
   "metadata": {},
   "source": [
    "# Plot DeepLabCut bodyparts on video using matplotlib"
   ]
  },
  {
   "cell_type": "markdown",
   "metadata": {},
   "source": [
    "### Import modules:"
   ]
  },
  {
   "cell_type": "code",
   "execution_count": null,
   "metadata": {},
   "outputs": [],
   "source": [
    "#make sure to clone github.com/jcouto/wfield and add that directory to the python path to avoid a module not found error\n",
    "\n",
    "import matplotlib.pyplot as plt\n",
    "import matplotlib.image as image\n",
    "from wfield.io import VideoStack\n",
    "import numpy as np\n",
    "import pandas as pd\n",
    "from matplotlib.widgets import Slider"
   ]
  },
  {
   "cell_type": "markdown",
   "metadata": {},
   "source": [
    "### Load video and h5 data file:"
   ]
  },
  {
   "cell_type": "code",
   "execution_count": null,
   "metadata": {},
   "outputs": [],
   "source": [
    "#omit 'r' at the beginning of strings if not using Windows\n",
    "\n",
    "video_path = r'C:\\Users\\Anne\\data\\JC072\\20220307_110327\\DropletsTask\\JC072_20220307_110327_cam0_00000000.avi'\n",
    "data_path = r'C:\\Users\\Anne\\data\\JC072\\20220307_110327\\dlc_analysis\\JC072_20220307_110327_cam0_00000000DLC_resnet50_JC072Apr1shuffle1_200000.h5'\n",
    "mov = VideoStack([video_path], outputdict={'-pix_fmt':'gray'})\n",
    "dlc_coords = pd.read_hdf(data_path)"
   ]
  },
  {
   "cell_type": "markdown",
   "metadata": {},
   "source": [
    "### Get x and y data:"
   ]
  },
  {
   "cell_type": "code",
   "execution_count": null,
   "metadata": {},
   "outputs": [],
   "source": [
    "bpts = dlc_coords.columns.get_level_values(\"bodyparts\")\n",
    "all_bpts = bpts.values[::3]\n",
    "dlc_coords_x, dlc_coords_y, dlc_coords_likelihood = dlc_coords.values.reshape((len(dlc_coords), -1, 3)).T\n",
    "bplist = bpts.unique().to_list()\n",
    "nbodyparts = len(bplist)"
   ]
  },
  {
   "cell_type": "markdown",
   "metadata": {},
   "source": [
    "### Plot data on top of frame:"
   ]
  },
  {
   "cell_type": "code",
   "execution_count": null,
   "metadata": {},
   "outputs": [],
   "source": [
    "fig = plt.figure()\n",
    "ax = fig.add_axes([0,0.2,1,.8])\n",
    "plt.axis('off')\n",
    "im = plt.imshow(mov[100].squeeze(),cmap='gray_r') #\"im\" for image\n",
    "xx = plt.plot([np.nan,np.nan], 'ko',alpha=0.5) #allocate the plot\n",
    "\n",
    "#make slider for moving across video frames\n",
    "sliderax = fig.add_axes([0.1,0.05,0.8,0.02])\n",
    "slider = Slider(sliderax, 'Frame', 0, len(mov)-1, valstep=1)\n",
    "\n",
    "def update_frame(val):\n",
    "    im.set_data(mov[int(val)].squeeze())    \n",
    "    # plot coordinates\n",
    "    x = []\n",
    "    y = []\n",
    "    for label in range(nbodyparts):\n",
    "        x.append(dlc_coords_x[label, int(val)])\n",
    "        y.append(dlc_coords_y[label, int(val)])\n",
    "    xx[0].set_xdata(x)\n",
    "    xx[0].set_ydata(y)\n",
    "    fig.canvas.draw()\n",
    "    \n",
    "slider.on_changed(update_frame)"
   ]
  }
 ],
 "metadata": {
  "kernelspec": {
   "display_name": "Python 3 (Spyder)",
   "language": "python3",
   "name": "python3"
  },
  "language_info": {
   "codemirror_mode": {
    "name": "ipython",
    "version": 3
   },
   "file_extension": ".py",
   "mimetype": "text/x-python",
   "name": "python",
   "nbconvert_exporter": "python",
   "pygments_lexer": "ipython3",
   "version": "3.8.5"
  }
 },
 "nbformat": 4,
 "nbformat_minor": 4
}
