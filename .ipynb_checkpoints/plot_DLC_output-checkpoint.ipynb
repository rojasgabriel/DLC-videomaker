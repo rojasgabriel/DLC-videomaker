{
 "cells": [
  {
   "cell_type": "markdown",
   "metadata": {},
   "source": [
    "### Import modules:"
   ]
  },
  {
   "cell_type": "code",
   "execution_count": 1,
   "metadata": {},
   "outputs": [],
   "source": [
    "#make sure to clone github.com/jcouto/wfield and add that directory to the python path to avoid a module not found error\n",
    "\n",
    "import matplotlib.pyplot as plt\n",
    "import matplotlib.image as image\n",
    "from wfield.io import VideoStack\n",
    "import pandas as pd\n",
    "from matplotlib.widgets import Slider"
   ]
  },
  {
   "cell_type": "markdown",
   "metadata": {},
   "source": [
    "### Load video and csv files:"
   ]
  },
  {
   "cell_type": "code",
   "execution_count": 6,
   "metadata": {},
   "outputs": [],
   "source": [
    "#omit 'r' at the beginning of strings if not using Windows\n",
    "\n",
    "video_path = r'C:\\Users\\Anne\\data\\JC072\\20220307_110327\\DropletsTask\\JC072_20220307_110327_cam0_00000000.avi'\n",
    "csv_path = r'C:\\Users\\Anne\\data\\JC072\\20220307_110327\\dlc_analysis\\JC072_20220307_110327_cam0_00000000DLC_resnet50_JC072Apr1shuffle1_200000.csv'\n",
    "mov = VideoStack([video_path], outputdict={'-pix_fmt':'gray'})\n",
    "dlc_coords = pd.read_csv(csv_path, dtype=object, header = [0])\n",
    "dlc_coords.columns = [dlc_coords.iloc[0]]\n",
    "#dlc_coords = dlc_coords.drop(dlc_coords.index[0])"
   ]
  },
  {
   "cell_type": "markdown",
   "metadata": {},
   "source": [
    "### Plot coordinates on frames:"
   ]
  },
  {
   "cell_type": "code",
   "execution_count": null,
   "metadata": {},
   "outputs": [],
   "source": [
    "fig = plt.figure()\n",
    "ax = fig.add_axes([0,0.2,1,.8])\n",
    "plt.axis('off')\n",
    "im = plt.imshow(mov[100].squeeze(),cmap='gray_r') #\"im\" for image\n",
    "xx = plt.plot() #allocate the plot\n",
    "\n",
    "#make slider for moving across video frames\n",
    "sliderax = fig.add_axes([0.1,0.05,0.8,0.02])\n",
    "slider = Slider(sliderax, 'Frame', 0, len(mov)-1, valstep=1)\n",
    "\n",
    "def plot_dlc_coords(frame):\n",
    "    xx.set_ydata...\n",
    "    xx.set_xdata...\n",
    "    raise NotImplementedError('bnoo')\n",
    "\n",
    "def update_frame(val):\n",
    "    im.set_data(mov[int(val)].squeeze())    \n",
    "    # plot coordinates\n",
    "    fig.canvas.draw()\n",
    "    \n",
    "slider.on_changed(update_frame)"
   ]
  }
 ],
 "metadata": {
  "kernelspec": {
   "display_name": "Python 3 (Spyder)",
   "language": "python3",
   "name": "python3"
  },
  "language_info": {
   "codemirror_mode": {
    "name": "ipython",
    "version": 3
   },
   "file_extension": ".py",
   "mimetype": "text/x-python",
   "name": "python",
   "nbconvert_exporter": "python",
   "pygments_lexer": "ipython3",
   "version": "3.8.5"
  }
 },
 "nbformat": 4,
 "nbformat_minor": 4
}
